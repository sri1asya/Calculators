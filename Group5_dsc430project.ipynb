{
  "nbformat": 4,
  "nbformat_minor": 0,
  "metadata": {
    "colab": {
      "provenance": []
    },
    "kernelspec": {
      "name": "python3",
      "display_name": "Python 3"
    },
    "language_info": {
      "name": "python"
    }
  },
  "cells": [
    {
      "cell_type": "markdown",
      "source": [
        "# **Calculator Project**\n",
        "\n",
        "For this project, we wanted to make a bunch of calculators that would be useful for everyday purposes and basic mathematical classwork."
      ],
      "metadata": {
        "id": "ZqZQD7pqKX56"
      }
    },
    {
      "cell_type": "markdown",
      "source": [
        "Group Members (Contribution):\n",
        "\n",
        "Aksheytha Chelikavada (Basic Arithmetic, Cone Volume, Total Sum of Coins)\n",
        "\n",
        "Srilasya Ankireddypalle (Basic Area and Volume Calculator, Currency Conversion Calculator)\n",
        "\n",
        "Juveiria Munawer (Temperature Conversion)\n",
        "\n",
        "Nyla Morrison (Unit Conversions)\n",
        "\n",
        "Brian Urban (Input A, B, and C Values for Quadratic Equation, Calculate Discriminant, Calculate the Value(s) of X)\n",
        "\n"
      ],
      "metadata": {
        "id": "kUN9OsQoaxiQ"
      }
    },
    {
      "cell_type": "markdown",
      "source": [
        "# Input A, B and C Values for Quadratic Equation"
      ],
      "metadata": {
        "id": "vCgsu_ubz_bJ"
      }
    },
    {
      "cell_type": "code",
      "source": [
        "import numpy as np\n",
        "\n",
        "print(\"\\nQuadratic Equation: ax² + bx + c\\n\")\n",
        "a = int(input('Input value for a: '))\n",
        "b = int(input('Input value for b: '))\n",
        "c = int(input('Input value for c: '))\n",
        "print(f\"\\n{int(a)}x² + {int(b)}x + {int(c)}\\n\")\n",
        "print(\"Quadratic Formula: x = [-b ± √(|b² - 4ac|)] / 2a\")"
      ],
      "metadata": {
        "id": "N4IYPrFo4fjg",
        "colab": {
          "base_uri": "https://localhost:8080/"
        },
        "outputId": "5b3148f9-b8ae-480f-93fd-5137c0014c6f"
      },
      "execution_count": null,
      "outputs": [
        {
          "output_type": "stream",
          "name": "stdout",
          "text": [
            "\n",
            "Quadratic Equation: ax² + bx + c\n",
            "\n",
            "Input value for a: 1\n",
            "Input value for b: 2\n",
            "Input value for c: 3\n",
            "\n",
            "1x² + 2x + 3\n",
            "\n",
            "Quadratic Formula: x = [-b ± √(|b² - 4ac|)] / 2a\n"
          ]
        }
      ]
    },
    {
      "cell_type": "markdown",
      "source": [
        "# Calculate Discriminant"
      ],
      "metadata": {
        "id": "EEgXG-f60h6_"
      }
    },
    {
      "cell_type": "code",
      "source": [
        "print(' ')\n",
        "d1 = b**2\n",
        "d2 = 4*a*c\n",
        "d = d1 - d2\n",
        "sqrtVal = np.sqrt(abs(d))\n",
        "roundVal = round(sqrtVal, 3)\n",
        "print(\"Discriminant Formula: √(|b² - 4ac|)\\n\")\n",
        "print(f\"√(|{int(b)}² - 4×{int(a)}×{int(c)}|) = √(|{int(d1)} - {int(d2)}|) = √(|{int(d)}|) = {int(sqrtVal)}\")"
      ],
      "metadata": {
        "colab": {
          "base_uri": "https://localhost:8080/"
        },
        "id": "Ov_7vXN_0czC",
        "outputId": "e8b7c232-afda-4cfb-9edc-fe3f62c6b7c1"
      },
      "execution_count": null,
      "outputs": [
        {
          "output_type": "stream",
          "name": "stdout",
          "text": [
            " \n",
            "Discriminant Formula: √(|b² - 4ac|)\n",
            "\n",
            "√(|2² - 4×1×3|) = √(|4 - 12|) = √(|-8|) = 2\n"
          ]
        }
      ]
    },
    {
      "cell_type": "markdown",
      "source": [
        "# Calculate the Value(s) of X"
      ],
      "metadata": {
        "id": "GHFMJYOF1v2n"
      }
    },
    {
      "cell_type": "code",
      "source": [
        "if d > 0:\n",
        "    print(\"\\nRoots are real and different:\\n\")\n",
        "    add = (-b + sqrtVal) / (2 * a)\n",
        "    print(f\"Addition: ({int(-b)} + {sqrtVal} / (2 × {int(a)}) = {float(add)}\")\n",
        "    sub = (-b - sqrtVal) / (2 * a)\n",
        "    print(f\"Substraction: ({int(-b)} - {sqrtVal} / (2 × {int(a)}) = {float(add)}\")\n",
        "\n",
        "elif d == 0:\n",
        "    print(\"\\nRoots are real and the same:\\n\")\n",
        "    div1 = -b / (2 * a)\n",
        "    print(f\"Calculate: {int(-b)} / (2 × {int(a)}) = {float(div1)}\")\n",
        "\n",
        "else:\n",
        "    print(\"\\nRoots are complex:\\n\")\n",
        "    div2 = -b / (2 * a)\n",
        "    print(f\"[{int(-b)} / (2 × {int(a)})] ± {float(roundVal)}i = {float(div2)} ± {float(roundVal)}i\")"
      ],
      "metadata": {
        "colab": {
          "base_uri": "https://localhost:8080/"
        },
        "id": "G3TO4UrY2FEr",
        "outputId": "6be339b4-0b9f-4368-9aa0-afccd7f2ea09"
      },
      "execution_count": null,
      "outputs": [
        {
          "output_type": "stream",
          "name": "stdout",
          "text": [
            "\n",
            "Roots are complex:\n",
            "\n",
            "[-2 / (2 × 1)] ± 2.828i = -1.0 ± 2.828i\n"
          ]
        }
      ]
    },
    {
      "cell_type": "markdown",
      "source": [
        "# Cone Volume\n"
      ],
      "metadata": {
        "id": "0WYfZLOcTYZx"
      }
    },
    {
      "cell_type": "code",
      "source": [
        "import math\n",
        "\n",
        "def coneVol(r, h):\n",
        "  vol = (1/3)*(math.pi)*((r)**2)*(h)\n",
        "  return vol\n",
        "\n",
        "a = float(input(\"Please enter a radius: \"))\n",
        "b = float(input(\"Please enter a height: \"))\n",
        "c = coneVol(a, b)\n",
        "print(f\"The area of the cone is {c}\")\n",
        "\n"
      ],
      "metadata": {
        "colab": {
          "base_uri": "https://localhost:8080/"
        },
        "id": "PJuTzeMtKLGV",
        "outputId": "531ba2e0-0b33-4330-8c94-f165c0be30d7"
      },
      "execution_count": null,
      "outputs": [
        {
          "output_type": "stream",
          "name": "stdout",
          "text": [
            "Please enter a radius: 10\n",
            "Please enter a height: 20\n",
            "The area of the cone is 2094.3951023931954\n"
          ]
        }
      ]
    },
    {
      "cell_type": "markdown",
      "source": [
        "# Basic Arithmetic\n"
      ],
      "metadata": {
        "id": "vv46CFC8YDJv"
      }
    },
    {
      "cell_type": "code",
      "source": [
        "def add(a,b):\n",
        "  return a + b\n",
        "\n",
        "def subtract(a,b):\n",
        "  return a - b\n",
        "\n",
        "def multi(a,b):\n",
        "  return a * b\n",
        "\n",
        "def div(a,b):\n",
        "  if b != 0:\n",
        "    return a/b\n",
        "  else:\n",
        "    return \"Denominator cannot be 0!\"\n",
        "\n",
        "a = float(input(\"Please enter a value: \"))\n",
        "b = float(input(\"Please enter a value (If doing division, make sure this value is not 0): \"))\n",
        "c = input(\"Enter operation (Addition, Subtraction, Multiplication, Division): \")\n",
        "\n",
        "if c == \"Addition\":\n",
        "  print(add(a,b))\n",
        "elif c == \"Subtraction\":\n",
        "  print(subtract(a,b))\n",
        "elif c == \"Multiplication\":\n",
        "  print(multi(a,b))\n",
        "elif c == \"Division\":\n",
        "  print(div(a,b))\n",
        "else:\n",
        "  print(\"Invalid Operator\")\n",
        "\n",
        "\n",
        "\n"
      ],
      "metadata": {
        "colab": {
          "base_uri": "https://localhost:8080/"
        },
        "id": "hHjlmJhpY5RZ",
        "outputId": "26fdc804-dbb8-4399-be19-b99f812f754b"
      },
      "execution_count": null,
      "outputs": [
        {
          "output_type": "stream",
          "name": "stdout",
          "text": [
            "Please enter a value: 0\n",
            "Please enter a value (If doing division, make sure this value is not 0): 0\n",
            "Enter operation (Addition, Subtraction, Multiplication, Division): Division\n",
            "Denominator cannot be 0!\n"
          ]
        }
      ]
    },
    {
      "cell_type": "markdown",
      "source": [
        "# Total Sum of Coins\n"
      ],
      "metadata": {
        "id": "Pv7WiNlObUhI"
      }
    },
    {
      "cell_type": "code",
      "source": [
        "def coins(quarters, dime, nickel, pennies):\n",
        "\n",
        "  total = 0\n",
        "  total = (quarters * 0.25) + (dime * 0.10) + (nickel * 0.05) + (pennies * 0.01)\n",
        "  return total\n",
        "\n",
        "q = int(input(\"How many quarters? \"))\n",
        "d = int(input(\"How many dimes? \"))\n",
        "n = int(input(\"How many nickels? \"))\n",
        "p = int(input(\"How many pennies? \"))\n",
        "\n",
        "t = round(coins(q, d, n, p),2)\n",
        "print(f\"Your total amount is ${t}\")\n"
      ],
      "metadata": {
        "colab": {
          "base_uri": "https://localhost:8080/"
        },
        "id": "4H4cC5VdbYsO",
        "outputId": "304fa06d-bed0-4681-8319-5c2e7771ca2c"
      },
      "execution_count": null,
      "outputs": [
        {
          "output_type": "stream",
          "name": "stdout",
          "text": [
            "How many quarters? 1000\n",
            "How many dimes? 1000\n",
            "How many nickels? 1000\n",
            "How many pennies? 1000\n",
            "Your total amount is $410.0\n"
          ]
        }
      ]
    },
    {
      "cell_type": "markdown",
      "source": [
        "## Unit Conversions"
      ],
      "metadata": {
        "id": "i10F9AUj_PAB"
      }
    },
    {
      "cell_type": "code",
      "source": [
        "def convert_units(value, from_unit, to_unit):\n",
        "    conversion_factors = {\n",
        "        \"inches\": {\"inches\": 1, \"feet\": 1 / 12, \"meters\": 0.0254, \"centimeters\": 2.54, \"yards\": 1 / 36, \"kilometers\": 2.54e-5, \"miles\": 1 / 63360, \"millimeters\": 25.4, \"micrometers\": 25400, \"nanometers\": 2.54e7},\n",
        "        \"feet\": {\"inches\": 12, \"feet\": 1, \"meters\": 0.3048, \"centimeters\": 30.48, \"yards\": 1 / 3, \"kilometers\": 0.0003048, \"miles\": 1 / 5280, \"millimeters\": 304.8, \"micrometers\": 304800, \"nanometers\": 3.048e8},\n",
        "        \"meters\": {\"inches\": 39.3701, \"feet\": 3.28084, \"meters\": 1, \"centimeters\": 100, \"yards\": 1.09361, \"kilometers\": 0.001, \"miles\": 0.000621371, \"millimeters\": 1000, \"micrometers\": 1e6, \"nanometers\": 1e9},\n",
        "        \"centimeters\": {\"inches\": 0.393701, \"feet\": 0.0328084, \"meters\": 0.01, \"centimeters\": 1, \"yards\": 0.0109361, \"kilometers\": 1e-5, \"miles\": 6.2137e-6, \"millimeters\": 10, \"micrometers\": 10000, \"nanometers\": 1e7},\n",
        "        \"yards\": {\"inches\": 36, \"feet\": 3, \"meters\": 0.9144, \"centimeters\": 91.44, \"yards\": 1, \"kilometers\": 0.0009144, \"miles\": 1 / 1760, \"millimeters\": 914.4, \"micrometers\": 914400, \"nanometers\": 9.144e8},\n",
        "        \"kilometers\": {\"inches\": 39370.1, \"feet\": 3280.84, \"meters\": 1000, \"centimeters\": 100000, \"yards\": 1093.61, \"kilometers\": 1, \"miles\": 0.621371, \"millimeters\": 1e6, \"micrometers\": 1e9, \"nanometers\": 1e12},\n",
        "        \"miles\": {\"inches\": 63360, \"feet\": 5280, \"meters\": 1609.34, \"centimeters\": 160934, \"yards\": 1760, \"kilometers\": 1.60934, \"miles\": 1, \"millimeters\": 1.609e6, \"micrometers\": 1.609e9, \"nanometers\": 1.609e12},\n",
        "        \"millimeters\": {\"inches\": 0.0393701, \"feet\": 0.00328084, \"meters\": 0.001, \"centimeters\": 0.1, \"yards\": 0.00109361, \"kilometers\": 1e-6, \"miles\": 6.2137e-7, \"millimeters\": 1, \"micrometers\": 1000, \"nanometers\": 1e6},\n",
        "        \"micrometers\": {\"inches\": 3.93701e-5, \"feet\": 3.2808e-6, \"meters\": 1e-6, \"centimeters\": 1e-4, \"yards\": 1.0936e-6, \"kilometers\": 1e-9, \"miles\": 6.2137e-10, \"millimeters\": 0.001, \"micrometers\": 1, \"nanometers\": 1000},\n",
        "        \"nanometers\": {\"inches\": 3.93701e-8, \"feet\": 3.2808e-9, \"meters\": 1e-9, \"centimeters\": 1e-7, \"yards\": 1.0936e-9, \"kilometers\": 1e-12, \"miles\": 6.2137e-13, \"millimeters\": 1e-6, \"micrometers\": 0.001, \"nanometers\": 1}\n",
        "    }\n",
        "\n",
        "    #Makes sure units are in dictionary\n",
        "    if from_unit not in conversion_factors or to_unit not in conversion_factors[from_unit]:\n",
        "        return \"Invalid units! Please use 'inches', 'feet', 'meters', or 'centimeters'.\"\n",
        "\n",
        "    # Performs conversion\n",
        "    result = value * conversion_factors[from_unit][to_unit]\n",
        "    return result\n",
        "\n",
        "#User input for conversion\n",
        "value = float(input(\"Enter the value to convert: \"))\n",
        "from_unit = input(\"Enter the unit to convert from (inches, feet, meters, centimeters): \").lower()\n",
        "to_unit = input(\"Enter the unit to convert to (inches, feet, meters, centimeters): \").lower()\n",
        "\n",
        "converted_value = convert_units(value, from_unit, to_unit)\n",
        "if isinstance(converted_value, str):\n",
        "    print(converted_value)  # Output error if units are invalid\n",
        "else:\n",
        "    print(f\"{value} {from_unit} is equal to {converted_value} {to_unit}\")\n"
      ],
      "metadata": {
        "id": "ziwGO9Dl_OsS"
      },
      "execution_count": null,
      "outputs": []
    },
    {
      "cell_type": "markdown",
      "source": [
        "# Basic Area and Volume Calculator\n",
        "Calculator for finding: areas (square, rectangle, circle, triangle), volumes (sphere, rectangular prism, cube), and circumference of a circle.\n"
      ],
      "metadata": {
        "id": "Lj8EA_ee53UK"
      }
    },
    {
      "cell_type": "code",
      "source": [
        "import math\n",
        "\n",
        "def squarea(x):\n",
        "    return x * x\n",
        "\n",
        "def rectarea(l, w):\n",
        "    return l * w\n",
        "\n",
        "def triarea(b, h):\n",
        "    return 0.5 * b * h\n",
        "\n",
        "def circarea(r):\n",
        "    return math.pi * r * r\n",
        "\n",
        "def circumf(r):\n",
        "    return 2 * math.pi * r\n",
        "\n",
        "def cube_vol(x):\n",
        "    return x**3\n",
        "\n",
        "def rect_vol(l, w, h):\n",
        "    return l * w * h\n",
        "\n",
        "def sphere_vol(r):\n",
        "    return (4/3) * math.pi * r**3\n",
        "\n",
        "def cyl_vol(r, h):\n",
        "    return math.pi * r * r * h\n",
        "\n",
        "def av_calculator():\n",
        "    print(\"Choose a calculation:\")\n",
        "    print(\"1. Square (Area)\")\n",
        "    print(\"2. Rectangle (Area)\")\n",
        "    print(\"3. Triangle (Area)\")\n",
        "    print(\"4. Circle (Area)\")\n",
        "    print(\"5. Circle (Circumference)\")\n",
        "    print(\"6. Cube (Volume)\")\n",
        "    print(\"7. Rectangle (Volume)\")\n",
        "    print(\"8. Sphere (Volume)\")\n",
        "    print(\"9. Cylinder (Volume)\")\n",
        "\n",
        "    choice = int(input(\"Choice (1-9): \"))\n",
        "\n",
        "    if choice == 1:\n",
        "        x = float(input(\"Side length: \"))\n",
        "        print(\"Area of square:\", squarea(x))\n",
        "\n",
        "    elif choice == 2:\n",
        "        l = float(input(\"Rectangle length: \"))\n",
        "        w = float(input(\"Rectangle width: \"))\n",
        "        print(\"Area of rectangle:\", rectarea(l, w))\n",
        "\n",
        "    elif choice == 3:\n",
        "        b = float(input(\"Triangle base: \"))\n",
        "        h = float(input(\"Triangle height: \"))\n",
        "        print(\"Area of triangle:\", triarea(b, h))\n",
        "\n",
        "    elif choice == 4:\n",
        "        r = float(input(\"Circle radius: \"))\n",
        "        print(\"Area of circle:\", circarea(r))\n",
        "\n",
        "    elif choice == 5:\n",
        "        r = float(input(\"Circle radius: \"))\n",
        "        print(\"Circumference of circle:\", circumf(r))\n",
        "\n",
        "    elif choice == 6:\n",
        "        x = float(input(\"Side length: \"))\n",
        "        print(\"Volume of cube:\", cube_vol(x))\n",
        "\n",
        "    elif choice == 7:\n",
        "        l = float(input(\"Rectangle length: \"))\n",
        "        w = float(input(\"Rectangle width: \"))\n",
        "        h = float(input(\"Rectangle height: \"))\n",
        "        print(\"Volume of rectangle:\", rect_vol(l, w, h))\n",
        "\n",
        "    elif choice == 8:\n",
        "        r = float(input(\"Sphere radius: \"))\n",
        "        print(\"Volume of sphere:\", sphere_vol(r))\n",
        "\n",
        "    elif choice == 9:\n",
        "        r = float(input(\"Cylinder radius: \"))\n",
        "        h = float(input(\"Cylinder height: \"))\n",
        "        print(\"Volume of cylinder:\", cyl_vol(r, h))\n",
        "\n",
        "    else:\n",
        "        print(\"Select a number between 1 and 9.\")\n",
        "        av_calculator()\n",
        "\n",
        "av_calculator()\n"
      ],
      "metadata": {
        "colab": {
          "base_uri": "https://localhost:8080/"
        },
        "collapsed": true,
        "id": "ghlyeIwK6JXL",
        "outputId": "a9eb5257-9080-4577-9d19-b1614aa3c743"
      },
      "execution_count": null,
      "outputs": [
        {
          "output_type": "stream",
          "name": "stdout",
          "text": [
            "Choose a calculation:\n",
            "1. Square (Area)\n",
            "2. Rectangle (Area)\n",
            "3. Triangle (Area)\n",
            "4. Circle (Area)\n",
            "5. Circle (Circumference)\n",
            "6. Cube (Volume)\n",
            "7. Rectangle (Volume)\n",
            "8. Sphere (Volume)\n",
            "9. Cylinder (Volume)\n",
            "Choice (1-9): 1\n",
            "Side length: 9\n",
            "Area of square: 81.0\n"
          ]
        }
      ]
    },
    {
      "cell_type": "markdown",
      "source": [
        "# Currency Conversion Calculator\n",
        "Convert the USD into one of these currencies:\n",
        "MXN, EUR, GBP, CHF, JPY, KRW, CNY, or INR."
      ],
      "metadata": {
        "id": "PQJHqpdfHU5Y"
      }
    },
    {
      "cell_type": "code",
      "source": [
        "def usd_to_currency(usd, rate):\n",
        "    return usd * rate\n",
        "\n",
        "def currency_converter():\n",
        "    rates = {\"MXN\": 20.4, \"EUR\": 0.94, \"GBP\": 0.78, \"CHF\": 0.88, \"JPY\": 154.03, \"KRW\": 1401.44, \"CNY\": 7.23, \"INR\": 84.4}\n",
        "\n",
        "    print(\"USD Currency Converter\")\n",
        "    usd = float(input(\"Enter amount of USD: \"))\n",
        "\n",
        "    print(\"Choose a currency:\")\n",
        "    print(\"1. Mexican Peso (MXN)\")\n",
        "    print(\"2. Euro (EUR)\")\n",
        "    print(\"3. British Pound (GBP)\")\n",
        "    print(\"4. Swiss Franc (CHF)\")\n",
        "    print(\"5. Japanese Yen (JPY)\")\n",
        "    print(\"6. Korean Won (KRW)\")\n",
        "    print(\"7. Chinese Yuan (CNY)\")\n",
        "    print(\"8. Indian Rupee (INR)\")\n",
        "\n",
        "    choice = int(input(\"Choice (1-8): \"))\n",
        "\n",
        "    codes = list(rates.keys())\n",
        "\n",
        "    if 1 <= choice <= 8:\n",
        "        selection = codes[choice - 1]\n",
        "        rate = rates[selection]\n",
        "        converted = usd_to_currency(usd, rate)\n",
        "        print(f\"{usd} USD is equivalent to {converted:.2f} {selection}\")\n",
        "    else:\n",
        "        print(\"Please select a number between 1 and 8.\")\n",
        "        currency_converter\n",
        "\n",
        "currency_converter()\n"
      ],
      "metadata": {
        "colab": {
          "base_uri": "https://localhost:8080/"
        },
        "id": "zhVgppCUBNCu",
        "outputId": "926de785-43d0-4e5d-dc19-94e59d594ac7"
      },
      "execution_count": null,
      "outputs": [
        {
          "output_type": "stream",
          "name": "stdout",
          "text": [
            "USD Currency Converter\n",
            "Enter amount of USD: 53\n",
            "Choose a currency:\n",
            "1. Mexican Peso (MXN)\n",
            "2. Euro (EUR)\n",
            "3. British Pound (GBP)\n",
            "4. Swiss Franc (CHF)\n",
            "5. Japanese Yen (JPY)\n",
            "6. Korean Won (KRW)\n",
            "7. Chinese Yuan (CNY)\n",
            "8. Indian Rupee (INR)\n",
            "Choice (1-8): 1\n",
            "53.0 USD is equivalent to 1081.20 MXN\n"
          ]
        }
      ]
    },
    {
      "cell_type": "markdown",
      "source": [
        "# Temperature Conversion Calculator\n",
        "Convert the Celsius temperature into following :\n",
        "Farenheit, Kelvin, Rankine"
      ],
      "metadata": {
        "id": "7RK9phi7UN8F"
      }
    },
    {
      "cell_type": "code",
      "source": [
        "#Step 1:\n",
        "def celsius_to_fahrenheit(celsius):\n",
        "    return (celsius * 9/5) + 32\n",
        "\n",
        "# Step 2:\n",
        "def celsius_to_kelvin(celsius):\n",
        "    return celsius + 273.15\n",
        "\n",
        "# Step 3:\n",
        "def celsius_to_rankine(celsius):\n",
        "    return (celsius + 273.15) * 9/5\n",
        "\n",
        "# Step 4:\n",
        "def display_menu():\n",
        "    print(\"\\nTemperature Conversion Options:\")\n",
        "    print(\"1: Convert to Fahrenheit\")\n",
        "    print(\"2: Convert to Kelvin\")\n",
        "    print(\"3: Convert to Rankine\")\n",
        "    print(\"4: Exit\")\n",
        "\n",
        "#Step 5:\n",
        "def perform_conversion(celsius, choice):\n",
        "    if choice == '1':\n",
        "        fahrenheit = celsius_to_fahrenheit(celsius)\n",
        "        print(f\"\\n{celsius}°C is equal to {fahrenheit}°F.\")\n",
        "    elif choice == '2':\n",
        "        kelvin = celsius_to_kelvin(celsius)\n",
        "        print(f\"\\n{celsius}°C is equal to {kelvin} K.\")\n",
        "    elif choice == '3':\n",
        "        rankine = celsius_to_rankine(celsius)\n",
        "        print(f\"\\n{celsius}°C is equal to {rankine}°R.\")\n",
        "    else:\n",
        "        print(\"Invalid choice. Please try again.\")\n",
        "\n",
        "# Step 6:\n",
        "def temperature_conversion_calculator():\n",
        "    print(\"Welcome to the Temperature Conversion Calculator!\")\n",
        "\n",
        "    while True:\n",
        "        try:\n",
        "            celsius = float(input(\"\\nEnter the temperature in Celsius (or type 'exit' to quit): \"))\n",
        "        except ValueError:\n",
        "            print(\"Invalid input. Please enter a numerical value for Celsius temperature.\")\n",
        "            continue\n",
        "\n",
        "        while True:\n",
        "            display_menu()\n",
        "            choice = input(\"Choose an option (1-4): \")\n",
        "\n",
        "            if choice == '4':\n",
        "                print(\"Exiting the calculator. Goodbye!\")\n",
        "                return\n",
        "            elif choice in ['1', '2', '3']:\n",
        "                perform_conversion(celsius, choice)\n",
        "                break\n",
        "            else:\n",
        "                print(\"Invalid choice. Please enter a number between 1 and 4.\")\n",
        "\n",
        "# Step 7: Get results by running the temperature conversion calculator\n",
        "temperature_conversion_calculator()\n"
      ],
      "metadata": {
        "colab": {
          "base_uri": "https://localhost:8080/"
        },
        "collapsed": true,
        "id": "pcOfA2rRUmfZ",
        "outputId": "1318c042-375d-4866-9027-aca25c1e4c66"
      },
      "execution_count": null,
      "outputs": [
        {
          "output_type": "stream",
          "name": "stdout",
          "text": [
            "Welcome to the Temperature Conversion Calculator!\n",
            "\n",
            "Enter the temperature in Celsius (or type 'exit' to quit): 77\n",
            "\n",
            "Temperature Conversion Options:\n",
            "1: Convert to Fahrenheit\n",
            "2: Convert to Kelvin\n",
            "3: Convert to Rankine\n",
            "4: Exit\n",
            "Choose an option (1-4): 2\n",
            "\n",
            "77.0°C is equal to 350.15 K.\n",
            "\n",
            "Enter the temperature in Celsius (or type 'exit' to quit): 89\n",
            "\n",
            "Temperature Conversion Options:\n",
            "1: Convert to Fahrenheit\n",
            "2: Convert to Kelvin\n",
            "3: Convert to Rankine\n",
            "4: Exit\n",
            "Choose an option (1-4): 3\n",
            "\n",
            "89.0°C is equal to 651.87°R.\n",
            "\n",
            "Enter the temperature in Celsius (or type 'exit' to quit): 65\n",
            "\n",
            "Temperature Conversion Options:\n",
            "1: Convert to Fahrenheit\n",
            "2: Convert to Kelvin\n",
            "3: Convert to Rankine\n",
            "4: Exit\n",
            "Choose an option (1-4): 4\n",
            "Exiting the calculator. Goodbye!\n"
          ]
        }
      ]
    },
    {
      "cell_type": "markdown",
      "source": [
        "Convert the Farenheit temperature into following :\n",
        "Celsius, Kelvin, Rankine"
      ],
      "metadata": {
        "id": "iJs3YBYuWkwe"
      }
    },
    {
      "cell_type": "code",
      "source": [
        "# Step 1:\n",
        "def fahrenheit_to_celsius(fahrenheit):\n",
        "    return (fahrenheit - 32) * 5/9\n",
        "\n",
        "# Step 2:\n",
        "def fahrenheit_to_kelvin(fahrenheit):\n",
        "    return (fahrenheit + 459.67) * 5/9\n",
        "\n",
        "# Step 3:\n",
        "def fahrenheit_to_rankine(fahrenheit):\n",
        "    return fahrenheit + 459.67\n",
        "\n",
        "# Step 4:\n",
        "def display_menu():\n",
        "    print(\"\\nTemperature Conversion Options:\")\n",
        "    print(\"1: Convert to Celsius\")\n",
        "    print(\"2: Convert to Kelvin\")\n",
        "    print(\"3: Convert to Rankine\")\n",
        "    print(\"4: Exit\")\n",
        "\n",
        "# Step 5:\n",
        "def perform_conversion(fahrenheit, choice):\n",
        "    if choice == '1':\n",
        "        celsius = fahrenheit_to_celsius(fahrenheit)\n",
        "        print(f\"\\n{fahrenheit}°F is equal to {celsius}°C.\")\n",
        "    elif choice == '2':\n",
        "        kelvin = fahrenheit_to_kelvin(fahrenheit)\n",
        "        print(f\"\\n{fahrenheit}°F is equal to {kelvin} K.\")\n",
        "    elif choice == '3':\n",
        "        rankine = fahrenheit_to_rankine(fahrenheit)\n",
        "        print(f\"\\n{fahrenheit}°F is equal to {rankine}°R.\")\n",
        "    else:\n",
        "        print(\"Invalid choice. Please try again.\")\n",
        "\n",
        "# Step 6:\n",
        "def temperature_conversion_calculator():\n",
        "    print(\"Welcome to the Fahrenheit Temperature Conversion Calculator!\")\n",
        "\n",
        "    while True:\n",
        "        try:\n",
        "            fahrenheit = float(input(\"\\nEnter the temperature in Fahrenheit (or type 'exit' to quit): \"))\n",
        "        except ValueError:\n",
        "            print(\"Invalid input. Please enter a numerical value for Fahrenheit temperature.\")\n",
        "            continue\n",
        "\n",
        "        while True:\n",
        "            display_menu()\n",
        "            choice = input(\"Choose an option (1-4): \")\n",
        "\n",
        "            if choice == '4':\n",
        "                print(\"Exiting the calculator. Goodbye!\")\n",
        "                return\n",
        "            elif choice in ['1', '2', '3']:\n",
        "                perform_conversion(fahrenheit, choice)\n",
        "                break\n",
        "            else:\n",
        "                print(\"Invalid choice. Please enter a number between 1 and 4.\")\n",
        "\n",
        "# Step 7: Get results by running the temperature conversion calculator\n",
        "temperature_conversion_calculator()\n"
      ],
      "metadata": {
        "colab": {
          "base_uri": "https://localhost:8080/"
        },
        "collapsed": true,
        "id": "qDU7-_4uWqTU",
        "outputId": "1909ec29-93ef-4821-9cdc-b4410db6fb31"
      },
      "execution_count": null,
      "outputs": [
        {
          "output_type": "stream",
          "name": "stdout",
          "text": [
            "Welcome to the Fahrenheit Temperature Conversion Calculator!\n",
            "\n",
            "Enter the temperature in Fahrenheit (or type 'exit' to quit): 45\n",
            "\n",
            "Temperature Conversion Options:\n",
            "1: Convert to Celsius\n",
            "2: Convert to Kelvin\n",
            "3: Convert to Rankine\n",
            "4: Exit\n",
            "Choose an option (1-4): 2\n",
            "\n",
            "45.0°F is equal to 280.3722222222222 K.\n",
            "\n",
            "Enter the temperature in Fahrenheit (or type 'exit' to quit): 46\n",
            "\n",
            "Temperature Conversion Options:\n",
            "1: Convert to Celsius\n",
            "2: Convert to Kelvin\n",
            "3: Convert to Rankine\n",
            "4: Exit\n",
            "Choose an option (1-4): 1\n",
            "\n",
            "46.0°F is equal to 7.777777777777778°C.\n",
            "\n",
            "Enter the temperature in Fahrenheit (or type 'exit' to quit): 67\n",
            "\n",
            "Temperature Conversion Options:\n",
            "1: Convert to Celsius\n",
            "2: Convert to Kelvin\n",
            "3: Convert to Rankine\n",
            "4: Exit\n",
            "Choose an option (1-4): 3\n",
            "\n",
            "67.0°F is equal to 526.6700000000001°R.\n",
            "\n",
            "Enter the temperature in Fahrenheit (or type 'exit' to quit): 4\n",
            "\n",
            "Temperature Conversion Options:\n",
            "1: Convert to Celsius\n",
            "2: Convert to Kelvin\n",
            "3: Convert to Rankine\n",
            "4: Exit\n",
            "Choose an option (1-4): 4\n",
            "Exiting the calculator. Goodbye!\n"
          ]
        }
      ]
    },
    {
      "cell_type": "markdown",
      "source": [
        "Convert the Kelvin temperature into following :\n",
        "Celsius, Farenheit, Rankine"
      ],
      "metadata": {
        "id": "Smcp1n6eePtu"
      }
    },
    {
      "cell_type": "code",
      "source": [
        "# Step 1:\n",
        "def kelvin_to_celsius(kelvin):\n",
        "    return kelvin - 273.15\n",
        "\n",
        "# Step 2:\n",
        "def kelvin_to_fahrenheit(kelvin):\n",
        "    return (kelvin - 273.15) * 9/5 + 32\n",
        "\n",
        "# Step 3:\n",
        "def kelvin_to_rankine(kelvin):\n",
        "    return kelvin * 9/5\n",
        "\n",
        "# Step 4:\n",
        "def display_menu():\n",
        "    print(\"\\nTemperature Conversion Options:\")\n",
        "    print(\"1: Convert to Celsius\")\n",
        "    print(\"2: Convert to Fahrenheit\")\n",
        "    print(\"3: Convert to Rankine\")\n",
        "    print(\"4: Exit\")\n",
        "\n",
        "# Step 5:\n",
        "def perform_conversion(kelvin, choice):\n",
        "    if choice == '1':\n",
        "        celsius = kelvin_to_celsius(kelvin)\n",
        "        print(f\"\\n{kelvin} K is equal to {celsius}°C.\")\n",
        "    elif choice == '2':\n",
        "        fahrenheit = kelvin_to_fahrenheit(kelvin)\n",
        "        print(f\"\\n{kelvin} K is equal to {fahrenheit}°F.\")\n",
        "    elif choice == '3':\n",
        "        rankine = kelvin_to_rankine(kelvin)\n",
        "        print(f\"\\n{kelvin} K is equal to {rankine}°R.\")\n",
        "    else:\n",
        "        print(\"Invalid choice. Please try again.\")\n",
        "\n",
        "# Step 6:\n",
        "def temperature_conversion_calculator():\n",
        "    print(\"Welcome to the Kelvin Temperature Conversion Calculator!\")\n",
        "\n",
        "    while True:\n",
        "        try:\n",
        "            kelvin = float(input(\"\\nEnter the temperature in Kelvin (or type 'exit' to quit): \"))\n",
        "        except ValueError:\n",
        "            print(\"Invalid input. Please enter a numerical value for Kelvin temperature.\")\n",
        "            continue\n",
        "\n",
        "        while True:\n",
        "            display_menu()\n",
        "            choice = input(\"Choose an option (1-4): \")\n",
        "\n",
        "            if choice == '4':\n",
        "                print(\"Exiting the calculator. Goodbye!\")\n",
        "                return\n",
        "            elif choice in ['1', '2', '3']:\n",
        "                perform_conversion(kelvin, choice)\n",
        "                break\n",
        "            else:\n",
        "                print(\"Invalid choice. Please enter a number between 1 and 4.\")\n",
        "\n",
        "# Step 7: Getting the results by running the temperature conversion calculator\n",
        "temperature_conversion_calculator()\n"
      ],
      "metadata": {
        "colab": {
          "base_uri": "https://localhost:8080/"
        },
        "collapsed": true,
        "id": "8XKi44lneV7N",
        "outputId": "6c877e37-f5a8-4140-8101-2018ba6635ee"
      },
      "execution_count": null,
      "outputs": [
        {
          "output_type": "stream",
          "name": "stdout",
          "text": [
            "Welcome to the Kelvin Temperature Conversion Calculator!\n",
            "\n",
            "Enter the temperature in Kelvin (or type 'exit' to quit): 102\n",
            "\n",
            "Temperature Conversion Options:\n",
            "1: Convert to Celsius\n",
            "2: Convert to Fahrenheit\n",
            "3: Convert to Rankine\n",
            "4: Exit\n",
            "Choose an option (1-4): 1\n",
            "\n",
            "102.0 K is equal to -171.14999999999998°C.\n",
            "\n",
            "Enter the temperature in Kelvin (or type 'exit' to quit): 23\n",
            "\n",
            "Temperature Conversion Options:\n",
            "1: Convert to Celsius\n",
            "2: Convert to Fahrenheit\n",
            "3: Convert to Rankine\n",
            "4: Exit\n",
            "Choose an option (1-4): 2\n",
            "\n",
            "23.0 K is equal to -418.27°F.\n",
            "\n",
            "Enter the temperature in Kelvin (or type 'exit' to quit): 768\n",
            "\n",
            "Temperature Conversion Options:\n",
            "1: Convert to Celsius\n",
            "2: Convert to Fahrenheit\n",
            "3: Convert to Rankine\n",
            "4: Exit\n",
            "Choose an option (1-4): 3\n",
            "\n",
            "768.0 K is equal to 1382.4°R.\n",
            "\n",
            "Enter the temperature in Kelvin (or type 'exit' to quit): 4\n",
            "\n",
            "Temperature Conversion Options:\n",
            "1: Convert to Celsius\n",
            "2: Convert to Fahrenheit\n",
            "3: Convert to Rankine\n",
            "4: Exit\n",
            "Choose an option (1-4): 4\n",
            "Exiting the calculator. Goodbye!\n"
          ]
        }
      ]
    },
    {
      "cell_type": "markdown",
      "source": [
        "Convert the Rankine temperature into following :\n",
        "Celsius, Farenheit, Kelvin"
      ],
      "metadata": {
        "id": "WVed2NMOf9bh"
      }
    },
    {
      "cell_type": "code",
      "source": [
        "# Step 1:\n",
        "def rankine_to_celsius(rankine):\n",
        "    return (rankine - 491.67) * 5/9\n",
        "\n",
        "# Step 2:\n",
        "def rankine_to_fahrenheit(rankine):\n",
        "    return rankine - 459.67\n",
        "\n",
        "# Step 3:\n",
        "def rankine_to_kelvin(rankine):\n",
        "    return rankine * 5/9\n",
        "\n",
        "# Step 4:\n",
        "def display_menu():\n",
        "    print(\"\\nTemperature Conversion Options:\")\n",
        "    print(\"1: Convert to Celsius\")\n",
        "    print(\"2: Convert to Fahrenheit\")\n",
        "    print(\"3: Convert to Kelvin\")\n",
        "    print(\"4: Exit\")\n",
        "\n",
        "# Step 5:\n",
        "def perform_conversion(rankine, choice):\n",
        "    if choice == '1':\n",
        "        celsius = rankine_to_celsius(rankine)\n",
        "        print(f\"\\n{rankine}°R is equal to {celsius}°C.\")\n",
        "    elif choice == '2':\n",
        "        fahrenheit = rankine_to_fahrenheit(rankine)\n",
        "        print(f\"\\n{rankine}°R is equal to {fahrenheit}°F.\")\n",
        "    elif choice == '3':\n",
        "        kelvin = rankine_to_kelvin(rankine)\n",
        "        print(f\"\\n{rankine}°R is equal to {kelvin} K.\")\n",
        "    else:\n",
        "        print(\"Invalid choice. Please try again.\")\n",
        "\n",
        "# Step 6:\n",
        "def temperature_conversion_calculator():\n",
        "    print(\"Welcome to the Rankine Temperature Conversion Calculator!\")\n",
        "\n",
        "    while True:\n",
        "        try:\n",
        "            rankine = float(input(\"\\nEnter the temperature in Rankine (or type 'exit' to quit): \"))\n",
        "        except ValueError:\n",
        "            print(\"Invalid input. Please enter a numerical value for Rankine temperature.\")\n",
        "            continue\n",
        "\n",
        "        while True:\n",
        "            display_menu()\n",
        "            choice = input(\"Choose an option (1-4): \")\n",
        "\n",
        "            if choice == '4':\n",
        "                print(\"Exiting the calculator. Goodbye!\")\n",
        "                return\n",
        "            elif choice in ['1', '2', '3']:\n",
        "                perform_conversion(rankine, choice)\n",
        "                break\n",
        "            else:\n",
        "                print(\"Invalid choice. Please enter a number between 1 and 4.\")\n",
        "\n",
        "# Step 7: Getting the results by running the temperature conversion calculator\n",
        "temperature_conversion_calculator()\n"
      ],
      "metadata": {
        "colab": {
          "base_uri": "https://localhost:8080/"
        },
        "collapsed": true,
        "id": "DivHqnOuf3cV",
        "outputId": "8ad74a78-bb69-484b-f05c-baf7f74e6273"
      },
      "execution_count": null,
      "outputs": [
        {
          "output_type": "stream",
          "name": "stdout",
          "text": [
            "Welcome to the Rankine Temperature Conversion Calculator!\n",
            "\n",
            "Enter the temperature in Rankine (or type 'exit' to quit): 101\n",
            "\n",
            "Temperature Conversion Options:\n",
            "1: Convert to Celsius\n",
            "2: Convert to Fahrenheit\n",
            "3: Convert to Kelvin\n",
            "4: Exit\n",
            "Choose an option (1-4): 3\n",
            "\n",
            "101.0°R is equal to 56.111111111111114 K.\n",
            "\n",
            "Enter the temperature in Rankine (or type 'exit' to quit): 280\n",
            "\n",
            "Temperature Conversion Options:\n",
            "1: Convert to Celsius\n",
            "2: Convert to Fahrenheit\n",
            "3: Convert to Kelvin\n",
            "4: Exit\n",
            "Choose an option (1-4): 2\n",
            "\n",
            "280.0°R is equal to -179.67000000000002°F.\n",
            "\n",
            "Enter the temperature in Rankine (or type 'exit' to quit): 77\n",
            "\n",
            "Temperature Conversion Options:\n",
            "1: Convert to Celsius\n",
            "2: Convert to Fahrenheit\n",
            "3: Convert to Kelvin\n",
            "4: Exit\n",
            "Choose an option (1-4): 1\n",
            "\n",
            "77.0°R is equal to -230.3722222222222°C.\n",
            "\n",
            "Enter the temperature in Rankine (or type 'exit' to quit): 4\n",
            "\n",
            "Temperature Conversion Options:\n",
            "1: Convert to Celsius\n",
            "2: Convert to Fahrenheit\n",
            "3: Convert to Kelvin\n",
            "4: Exit\n",
            "Choose an option (1-4): 4\n",
            "Exiting the calculator. Goodbye!\n"
          ]
        }
      ]
    }
  ]
}